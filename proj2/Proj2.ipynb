{
 "cells": [
  {
   "cell_type": "code",
   "execution_count": 17,
   "metadata": {},
   "outputs": [],
   "source": [
    "import pandas as pd\n",
    "import io\n",
    "import requests\n",
    "import numpy as np\n",
    "import collections\n",
    "from sklearn import metrics\n",
    "from sklearn import svm, datasets\n",
    "from sklearn.model_selection import train_test_split\n",
    "from sklearn.metrics import confusion_matrix, classification_report, roc_curve, auc\n",
    "from sklearn.linear_model import LogisticRegression\n",
    "import matplotlib.pyplot as plt\n",
    "\n",
    "from tensorflow.keras import optimizers\n",
    "from tensorflow.keras.models import Sequential\n",
    "from tensorflow.keras.layers import Dense, Activation, Embedding, LSTM\n",
    "from tensorflow.keras.callbacks import EarlyStopping\n",
    "from tensorflow.keras.callbacks import ModelCheckpoint"
   ]
  },
  {
   "cell_type": "markdown",
   "metadata": {},
   "source": [
    "# LSTM"
   ]
  },
  {
   "cell_type": "code",
   "execution_count": 30,
   "metadata": {},
   "outputs": [
    {
     "name": "stdout",
     "output_type": "stream",
     "text": [
      "Training set has 3074 records.\n",
      "Test set has 1318 records.\n"
     ]
    }
   ],
   "source": [
    "dt = pd.read_csv('C:/Users/Owner/Documents/Sac State/CSC215_P2_Stock_Price.csv')\n",
    "dt['Close_y'] = dt['Close']\n",
    "split = int(0.7 * len(dt))\n",
    "df_train = dt[:split]\n",
    "df_test = dt[split:len(dt)]\n",
    "\n",
    "print(\"Training set has {} records.\".format(len(df_train)))\n",
    "print(\"Test set has {} records.\".format(len(df_test)))\n"
   ]
  },
  {
   "cell_type": "markdown",
   "metadata": {},
   "source": [
    "Since we want to ensure time-based relationships between observations, we split the data in a sequential way. The first 70% of observations are in the training set, with the remaining in our test.\n",
    "Additoinally, we create a new column 'Close_y' to preserve the actual observed closing values. This will be used as our dependent variable. This column is needed as the 'Close' column will be used as an input variable and will be normalized."
   ]
  },
  {
   "cell_type": "code",
   "execution_count": 33,
   "metadata": {},
   "outputs": [
    {
     "name": "stderr",
     "output_type": "stream",
     "text": [
      "C:\\Users\\Owner\\Anaconda3\\lib\\site-packages\\ipykernel_launcher.py:8: SettingWithCopyWarning: \n",
      "A value is trying to be set on a copy of a slice from a DataFrame.\n",
      "Try using .loc[row_indexer,col_indexer] = value instead\n",
      "\n",
      "See the caveats in the documentation: http://pandas.pydata.org/pandas-docs/stable/user_guide/indexing.html#returning-a-view-versus-a-copy\n",
      "  \n"
     ]
    }
   ],
   "source": [
    "def encode_numeric_zscore(df, name, mean=None, sd=None):\n",
    "    if mean is None:\n",
    "        mean = df[name].mean()\n",
    "        \n",
    "    if sd is None:\n",
    "        sd = df[name].std()\n",
    "        \n",
    "    df[name] = (df[name] - mean) / sd\n",
    "\n",
    "normal_list = ['Open', 'High', 'Low', 'Volume', 'Close'];\n",
    "\n",
    "for element in normal_list:\n",
    "    encode_numeric_zscore(df_train, element)\n",
    "    encode_numeric_zscore(df_test, element)    \n",
    "\n",
    "\n",
    "\n",
    "params_train = df_train[['Open', 'High', 'Low', 'Volume', 'Close']].values.tolist()\n",
    "params_test = df_test[['Open', 'High', 'Low', 'Volume', 'Close',]].values.tolist()"
   ]
  },
  {
   "cell_type": "markdown",
   "metadata": {},
   "source": [
    "Next we normalize the values, and drop the 'date' column from the dataframe. The way we did this caused a warning, however this does not impact our final program."
   ]
  },
  {
   "cell_type": "code",
   "execution_count": 40,
   "metadata": {},
   "outputs": [
    {
     "name": "stdout",
     "output_type": "stream",
     "text": [
      "Shape of x_train: (3066, 7, 5)\n",
      "Shape of x_test: (1310, 7, 5)\n",
      "Shape of y_train: (3066,)\n",
      "Shape of y_test: (1310,)\n"
     ]
    }
   ],
   "source": [
    "def to_sequences(seq_size, data):\n",
    "    x = []\n",
    "    y = []\n",
    "\n",
    "    for i in range(len(data)-SEQUENCE_SIZE-1):\n",
    "        #print(i)\n",
    "        window = data[i:(i+SEQUENCE_SIZE)]\n",
    "        after_window = data[i+SEQUENCE_SIZE]\n",
    "        window = [x for x in window]\n",
    "        #print(\"{} - {}\".format(window,after_window))\n",
    "        x.append(window)\n",
    "        y.append(after_window)\n",
    "        \n",
    "    return np.array(x),np.array(y)\n",
    "\n",
    "SEQUENCE_SIZE = 7\n",
    "x_train,y_train = to_sequences(SEQUENCE_SIZE,params_train)\n",
    "obs_train = df_train['Close_y'][SEQUENCE_SIZE:len(df_train)].values.tolist()\n",
    "obs_train.pop()\n",
    "obs_train = np.asarray(obs_train)\n",
    "\n",
    "x_test,y_test = to_sequences(SEQUENCE_SIZE,params_test)\n",
    "obs_test = df_test['Close_y'][SEQUENCE_SIZE:len(df_test)].values.tolist()\n",
    "obs_test.pop()\n",
    "obs_test = np.asarray(obs_test)\n",
    "\n",
    "print(\"Shape of x_train: {}\".format(x_train.shape))\n",
    "print(\"Shape of x_test: {}\".format(x_test.shape))\n",
    "print(\"Shape of y_train: {}\".format(obs_train.shape))\n",
    "print(\"Shape of y_test: {}\".format(obs_test.shape))"
   ]
  },
  {
   "cell_type": "markdown",
   "metadata": {},
   "source": [
    "Here we transform our data in sequence data. Now, each record is a sequence of 7 days of data, each with 5 relevant pieces of information on that day's market behavior. Additionally, there is one dependent variable for each of these 7x5 structures which holds the close price of the stock on the seventh day."
   ]
  },
  {
   "cell_type": "code",
   "execution_count": 74,
   "metadata": {},
   "outputs": [
    {
     "name": "stdout",
     "output_type": "stream",
     "text": [
      "Train on 3066 samples, validate on 1310 samples\n",
      "Epoch 1/100\n",
      "3066/3066 - 20s - loss: 117.7427 - val_loss: 2886.6912\n",
      "Epoch 2/100\n",
      "3066/3066 - 18s - loss: 3.7830 - val_loss: 2945.3632\n",
      "Epoch 3/100\n",
      "3066/3066 - 13s - loss: 2.8872 - val_loss: 2953.1208\n",
      "Epoch 4/100\n",
      "3066/3066 - 14s - loss: 2.2651 - val_loss: 2955.1328\n",
      "Epoch 5/100\n",
      "3066/3066 - 17s - loss: 2.0222 - val_loss: 2982.1990\n",
      "Epoch 6/100\n",
      "3066/3066 - 18s - loss: 1.8070 - val_loss: 3037.9072\n",
      "Epoch 00006: early stopping\n",
      "Train on 3066 samples, validate on 1310 samples\n",
      "Epoch 1/100\n",
      "3066/3066 - 19s - loss: 15.2922 - val_loss: 2666.4808\n",
      "Epoch 2/100\n",
      "3066/3066 - 13s - loss: 3.1264 - val_loss: 3302.3768\n",
      "Epoch 3/100\n",
      "3066/3066 - 15s - loss: 2.3446 - val_loss: 3022.2317\n",
      "Epoch 4/100\n",
      "3066/3066 - 13s - loss: 2.1009 - val_loss: 2983.4248\n",
      "Epoch 5/100\n",
      "3066/3066 - 13s - loss: 2.3565 - val_loss: 3129.2285\n",
      "Epoch 6/100\n",
      "3066/3066 - 14s - loss: 1.8340 - val_loss: 2838.5252\n",
      "Epoch 00006: early stopping\n"
     ]
    }
   ],
   "source": [
    "myDict = dict()\n",
    "##activationType = ['relu', 'sigmoid', 'tanh']\n",
    "optimizerType = ['adam', 'sgd']\n",
    "iteration = 0\n",
    "\n",
    "for opt in optimizerType:\n",
    "    ##checkpointer = ModelCheckpoint(filepath=\"best_weights3.hdf5\", verbose=0, save_best_only=True) # save best model        \n",
    "    ##for i in range(2):\n",
    "        ##print(i)        \n",
    "        # Build network\n",
    "        model = Sequential()\n",
    "        model.add(LSTM(64, dropout=0.1, recurrent_dropout=0.1, input_shape=(SEQUENCE_SIZE, 5)))\n",
    "        model.add(Dense(32))\n",
    "        model.add(Dense(1))\n",
    "        model.compile(loss='mean_squared_error', optimizer=opt)        \n",
    "        monitor = EarlyStopping(monitor='val_loss', min_delta=1e-3, patience=5, verbose=1, mode='auto')        \n",
    "        model.fit(x_train,obs_train,validation_data=(x_test,obs_test), callbacks=[monitor],verbose=2, epochs=100)  \n",
    "\n",
    "\n",
    "    ##print('Training finished...Loading the best model')  \n",
    "    ##print()\n",
    "    ##model.load_weights(\"best_weights3.hdf5\") # load weights from best model\n",
    "        myDict.update({iteration : (opt, model)})\n",
    "        iteration += 1"
   ]
  },
  {
   "cell_type": "markdown",
   "metadata": {},
   "source": [
    "Here we use checkpointing and earlystopping to iteration through model construction. Checkpointing allows us to save our best model whereas earlystopping will stop training after the model reaches a certain point on the descent algorithm. "
   ]
  },
  {
   "cell_type": "code",
   "execution_count": 75,
   "metadata": {},
   "outputs": [
    {
     "name": "stdout",
     "output_type": "stream",
     "text": [
      "Analyzing model with optimizer adam\n"
     ]
    },
    {
     "data": {
      "image/png": "[encoded data removed]",
      "text/plain": [
       "<Figure size 432x288 with 1 Axes>"
      ]
     },
     "metadata": {
      "needs_background": "light"
     },
     "output_type": "display_data"
    },
    {
     "name": "stdout",
     "output_type": "stream",
     "text": [
      "Score (RMSE): 55.1172133130421\n",
      "Analyzing model with optimizer sgd\n"
     ]
    },
    {
     "data": {
      "image/png": "[encoded data removed]",
      "text/plain": [
       "<Figure size 432x288 with 1 Axes>"
      ]
     },
     "metadata": {
      "needs_background": "light"
     },
     "output_type": "display_data"
    },
    {
     "name": "stdout",
     "output_type": "stream",
     "text": [
      "Score (RMSE): 53.27781188886791\n"
     ]
    }
   ],
   "source": [
    "def chart_regression(pred,y,sort=True):\n",
    "    t = pd.DataFrame({'pred' : pred.flatten(), 'y' : y.flatten()})\n",
    "    if sort:\n",
    "        t.sort_values(by=['y'],inplace=True)\n",
    "    a = plt.plot(t['y'].tolist(),label='expected')\n",
    "    b = plt.plot(t['pred'].tolist(),label='prediction')\n",
    "    plt.ylabel('output')\n",
    "    plt.legend()\n",
    "    plt.show()\n",
    "\n",
    "\n",
    "for ele in myDict.values():\n",
    "    print('Analyzing model with optimizer {}'.format(ele[0]))\n",
    "    model = ele[1]\n",
    "    pred = model.predict(x_test)\n",
    "    obs_test = np.asarray(obs_test)\n",
    "    score = np.sqrt(metrics.mean_squared_error(pred,obs_test))\n",
    "    chart_regression(pred,obs_test)\n",
    "    print(\"Score (RMSE): {}\".format(score))"
   ]
  },
  {
   "cell_type": "markdown",
   "metadata": {},
   "source": [
    "Here we see that both models have a very similar RMSE (implying the optimizer makes little to no difference). Additionally, we see the reression lift chart. We find it a bit odd that there seems to be a relatively consistent linear gap between the expected and the prediction. In other words, it seems odd that our predictions seem to attempt to match the slope of the expected but the y intercept is off by about 20. We assume that this it because we split the data in a linear way"
   ]
  },
  {
   "cell_type": "code",
   "execution_count": 76,
   "metadata": {},
   "outputs": [
    {
     "name": "stdout",
     "output_type": "stream",
     "text": [
      "Analyzing model with optimizer adam\n"
     ]
    },
    {
     "data": {
      "image/png": "[encoded data removed]",
      "text/plain": [
       "<Figure size 432x288 with 1 Axes>"
      ]
     },
     "metadata": {
      "needs_background": "light"
     },
     "output_type": "display_data"
    },
    {
     "name": "stdout",
     "output_type": "stream",
     "text": [
      "Score (RMSE): 17.394533365517937\n",
      "Analyzing model with optimizer sgd\n"
     ]
    },
    {
     "data": {
      "image/png": "[encoded data removed]",
      "text/plain": [
       "<Figure size 432x288 with 1 Axes>"
      ]
     },
     "metadata": {
      "needs_background": "light"
     },
     "output_type": "display_data"
    },
    {
     "name": "stdout",
     "output_type": "stream",
     "text": [
      "Score (RMSE): 15.879691858016981\n"
     ]
    }
   ],
   "source": [
    "for ele in myDict.values():\n",
    "    print('Analyzing model with optimizer {}'.format(ele[0]))\n",
    "    model = ele[1]\n",
    "    pred = model.predict(x_test)\n",
    "    pred = pred + np.mean(obs_test) - np.mean(obs_train)\n",
    "    obs_test = np.asarray(obs_test)\n",
    "    score = np.sqrt(metrics.mean_squared_error(pred,obs_test))\n",
    "    chart_regression(pred,obs_test)\n",
    "    print(\"Score (RMSE): {}\".format(score))"
   ]
  },
  {
   "cell_type": "markdown",
   "metadata": {},
   "source": [
    "We see a slightly improved RMSE, however our curve is too flat. We believe that this is because we have normalized the close price in the input data. We believe this because our model will only be able to notice change in z-scores between close price and use this against an index built on the first 70% of close prices. However, if we included non-normalized close price in our data, we would be able to predict the new close price based on the actual value of the previous close price combined with whatever change value the model predicted. To test our theory, will we model based on non-normalized close price."
   ]
  },
  {
   "cell_type": "code",
   "execution_count": 86,
   "metadata": {},
   "outputs": [
    {
     "name": "stdout",
     "output_type": "stream",
     "text": [
      "3074\n",
      "1318\n"
     ]
    }
   ],
   "source": [
    "dt = pd.read_csv('C:/Users/Owner/Documents/Sac State/CSC215_P2_Stock_Price.csv')\n",
    "split = int(0.35 * len(dt))\n",
    "df_train = dt[:split]\n",
    "df_train = df_train.append(dt[(len(dt) - split):len(dt)])\n",
    "df_test = dt[split:(len(dt)-split)]\n",
    "\n",
    "print(len(df_train))\n",
    "print(len(df_test))"
   ]
  },
  {
   "cell_type": "code",
   "execution_count": 92,
   "metadata": {},
   "outputs": [
    {
     "name": "stdout",
     "output_type": "stream",
     "text": [
      "(3066,)\n",
      "(1310,)\n"
     ]
    },
    {
     "name": "stderr",
     "output_type": "stream",
     "text": [
      "C:\\Users\\Owner\\Anaconda3\\lib\\site-packages\\ipykernel_launcher.py:8: SettingWithCopyWarning: \n",
      "A value is trying to be set on a copy of a slice from a DataFrame.\n",
      "Try using .loc[row_indexer,col_indexer] = value instead\n",
      "\n",
      "See the caveats in the documentation: http://pandas.pydata.org/pandas-docs/stable/user_guide/indexing.html#returning-a-view-versus-a-copy\n",
      "  \n"
     ]
    }
   ],
   "source": [
    "normal_list = ['Open', 'High', 'Low', 'Volume'];\n",
    "\n",
    "for element in normal_list:\n",
    "    encode_numeric_zscore(df_train, element)\n",
    "    encode_numeric_zscore(df_test, element)    \n",
    "\n",
    "\n",
    "\n",
    "params_train = df_train[['Open', 'High', 'Low', 'Volume', 'Close']].values.tolist()\n",
    "params_test = df_test[['Open', 'High', 'Low', 'Volume', 'Close',]].values.tolist()\n",
    "\n",
    "SEQUENCE_SIZE = 7\n",
    "x_train,y_train = to_sequences(SEQUENCE_SIZE,params_train)\n",
    "obs_train = df_train['Close'][SEQUENCE_SIZE:len(df_train)].values.tolist()\n",
    "obs_train.pop()\n",
    "obs_train = np.asarray(obs_train)\n",
    "print(obs_train.shape)\n",
    "\n",
    "x_test,y_test = to_sequences(SEQUENCE_SIZE,params_test)\n",
    "obs_test = df_test['Close'][SEQUENCE_SIZE:len(df_test)].values.tolist()\n",
    "obs_test.pop()\n",
    "obs_test = np.asarray(obs_test)\n",
    "print(obs_test.shape)\n"
   ]
  },
  {
   "cell_type": "code",
   "execution_count": 95,
   "metadata": {},
   "outputs": [
    {
     "name": "stdout",
     "output_type": "stream",
     "text": [
      "Train on 3066 samples, validate on 1310 samples\n",
      "Epoch 1/100\n",
      "3066/3066 - 27s - loss: 1566.0606 - val_loss: 41.3733\n",
      "Epoch 2/100\n",
      "3066/3066 - 18s - loss: 192.4253 - val_loss: 67.7408\n",
      "Epoch 3/100\n",
      "3066/3066 - 14s - loss: 26.9222 - val_loss: 83.8275\n",
      "Epoch 4/100\n",
      "3066/3066 - 17s - loss: 12.7419 - val_loss: 48.6596\n",
      "Epoch 5/100\n",
      "3066/3066 - 15s - loss: 8.5022 - val_loss: 43.5425\n",
      "Epoch 6/100\n",
      "3066/3066 - 10s - loss: 7.1813 - val_loss: 57.7913\n",
      "Epoch 00006: early stopping\n"
     ]
    }
   ],
   "source": [
    "myDict_mod = dict()\n",
    "iteration = 0\n",
    "\n",
    "model = Sequential()\n",
    "model.add(LSTM(64, dropout=0.1, recurrent_dropout=0.1, input_shape=(SEQUENCE_SIZE, 5)))\n",
    "model.add(Dense(32))\n",
    "model.add(Dense(1))\n",
    "model.compile(loss='mean_squared_error', optimizer='adam')        \n",
    "monitor = EarlyStopping(monitor='val_loss', min_delta=1e-3, patience=5, verbose=1, mode='auto')        \n",
    "model.fit(x_train,obs_train,validation_data=(x_test,obs_test), callbacks=[monitor],verbose=2, epochs=100)  \n",
    "\n",
    "myDict_mod.update({iteration : (opt, model)})"
   ]
  },
  {
   "cell_type": "code",
   "execution_count": 96,
   "metadata": {},
   "outputs": [
    {
     "name": "stdout",
     "output_type": "stream",
     "text": [
      "Analyzing model with optimizer sgd\n"
     ]
    },
    {
     "data": {
      "image/png": "[encoded data removed]",
      "text/plain": [
       "<Figure size 432x288 with 1 Axes>"
      ]
     },
     "metadata": {
      "needs_background": "light"
     },
     "output_type": "display_data"
    },
    {
     "name": "stdout",
     "output_type": "stream",
     "text": [
      "Score (RMSE): 7.602057863016501\n"
     ]
    }
   ],
   "source": [
    "for ele in myDict_mod.values():\n",
    "    print('Analyzing model with optimizer {}'.format(ele[0]))\n",
    "    model = ele[1]\n",
    "    pred = model.predict(x_test)\n",
    "    obs_test = np.asarray(obs_test)\n",
    "    score = np.sqrt(metrics.mean_squared_error(pred,obs_test))\n",
    "    chart_regression(pred,obs_test)\n",
    "    print(\"Score (RMSE): {}\".format(score))"
   ]
  },
  {
   "cell_type": "markdown",
   "metadata": {},
   "source": [
    "# Fully Connected NN"
   ]
  },
  {
   "cell_type": "code",
   "execution_count": 132,
   "metadata": {},
   "outputs": [
    {
     "name": "stdout",
     "output_type": "stream",
     "text": [
      "Training set has 3074 records.\n",
      "Test set has 1318 records.\n"
     ]
    },
    {
     "name": "stderr",
     "output_type": "stream",
     "text": [
      "C:\\Users\\Owner\\Anaconda3\\lib\\site-packages\\ipykernel_launcher.py:27: SettingWithCopyWarning: \n",
      "A value is trying to be set on a copy of a slice from a DataFrame.\n",
      "Try using .loc[row_indexer,col_indexer] = value instead\n",
      "\n",
      "See the caveats in the documentation: http://pandas.pydata.org/pandas-docs/stable/user_guide/indexing.html#returning-a-view-versus-a-copy\n"
     ]
    }
   ],
   "source": [
    "####################\n",
    "##Fully Connected NN\n",
    "####################\n",
    "\n",
    "####################\n",
    "##DATA IMPORTING && PREPROCESSING\n",
    "####################\n",
    "dt = pd.read_csv('C:/Users/Owner/Documents/Sac State/CSC215_P2_Stock_Price.csv')\n",
    "dt['Close_y'] = dt['Close']\n",
    "split = int(0.7 * len(dt))\n",
    "df_train = dt[:split]\n",
    "df_test = dt[split:len(dt)]\n",
    "\n",
    "print(\"Training set has {} records.\".format(len(df_train)))\n",
    "print(\"Test set has {} records.\".format(len(df_test)))\n",
    "\n",
    "close_train = df_train['Close_y']\n",
    "close_test = df_test['Close_y']\n",
    "\n",
    "def encode_numeric_zscore(df, name, mean=None, sd=None):\n",
    "    if mean is None:\n",
    "        mean = df[name].mean()\n",
    "        \n",
    "    if sd is None:\n",
    "        sd = df[name].std()\n",
    "        \n",
    "    df[name] = (df[name] - mean) / sd\n",
    "\n",
    "normal_list = ['Open', 'High', 'Low', 'Volume', 'Close'];\n",
    "\n",
    "for element in normal_list:\n",
    "    encode_numeric_zscore(df_train, element)\n",
    "    encode_numeric_zscore(df_test, element)    \n",
    "\n",
    "\n",
    "\n",
    "params_train = df_train[['Open', 'High', 'Low', 'Volume', 'Close']].values.tolist()\n",
    "params_test = df_test[['Open', 'High', 'Low', 'Volume', 'Close',]].values.tolist()\n",
    "\n",
    "\n",
    "def to_sequences(seq_size, data):\n",
    "    x = []\n",
    "    y = []\n",
    "\n",
    "    for i in range(len(data)-SEQUENCE_SIZE-1):\n",
    "        #print(i)\n",
    "        window = data[i:(i+SEQUENCE_SIZE)]\n",
    "        after_window = data[i+SEQUENCE_SIZE]\n",
    "        window = [x for x in window]\n",
    "        #print(\"{} - {}\".format(window,after_window))\n",
    "        x.append(window)\n",
    "        y.append(after_window)\n",
    "        \n",
    "    return np.array(x),np.array(y)\n",
    "\n",
    "SEQUENCE_SIZE = 7\n",
    "x_train,y_train = to_sequences(SEQUENCE_SIZE,params_train)\n",
    "obs_train = close_train[SEQUENCE_SIZE:len(close_train)].values.tolist()\n",
    "obs_train.pop()\n",
    "obs_train = np.asarray(obs_train)\n",
    "\n",
    "x_test,y_test = to_sequences(SEQUENCE_SIZE,params_test)\n",
    "obs_test = close_test[SEQUENCE_SIZE:len(close_test)].values.tolist()\n",
    "obs_test.pop()\n",
    "obs_test = np.asarray(obs_test)\n",
    "\n",
    "\n",
    "test_NN = []\n",
    "for ele in x_test:\n",
    "    flat_list = []\n",
    "    for sublist in ele:\n",
    "        for item in sublist:\n",
    "            flat_list.append(item)\n",
    "    test_NN.append(flat_list)\n",
    "\n",
    "train_NN = []\n",
    "for ele in x_train:\n",
    "    flat_list = []\n",
    "    for sublist in ele:\n",
    "        for item in sublist:\n",
    "            flat_list.append(item)\n",
    "    train_NN.append(flat_list)\n",
    "\n",
    "\n",
    "train_NN = pd.DataFrame(train_NN)\n",
    "train_NN['out'] = obs_train\n",
    "test_NN = pd.DataFrame(test_NN)\n",
    "test_NN['out'] = obs_test\n",
    "\n",
    "\n",
    "def to_xy(df, target):\n",
    "    result = []\n",
    "    for x in df.columns:\n",
    "        if x != target:\n",
    "            result.append(x)\n",
    "    # find out the type of the target column. \n",
    "    target_type = df[target].dtypes\n",
    "    target_type = target_type[0] if isinstance(target_type, collections.Sequence) else target_type\n",
    "    # Encode to int for classification, float otherwise. TensorFlow likes 32 bits.\n",
    "    if target_type in (np.int64, np.int32):\n",
    "        # Classification\n",
    "        dummies = pd.get_dummies(df[target])\n",
    "        return df[result].values.astype(np.float32), dummies.values.astype(np.float32)\n",
    "    else:\n",
    "        # Regression\n",
    "        return df[result].values.astype(np.float32), df[target].values.astype(np.float32)\n",
    "\n",
    "\n",
    "train_NN,y_train2 = to_xy(train_NN, 'out')\n",
    "test_NN, y_test2 = to_xy(test_NN, 'out')"
   ]
  },
  {
   "cell_type": "code",
   "execution_count": 112,
   "metadata": {},
   "outputs": [
    {
     "name": "stdout",
     "output_type": "stream",
     "text": [
      "[[-1.0004982  -0.9735974  -0.99670935 ... -1.062878    6.9412484\n",
      "  -1.0292974 ]\n",
      " [-0.97205067 -0.97640973 -0.97944796 ... -1.0297937   2.7910035\n",
      "  -1.0307183 ]\n",
      " [-0.9834296  -0.98484653 -0.9837633  ... -1.0283552   3.2995112\n",
      "  -1.0221924 ]\n",
      " ...\n",
      " [ 2.6000443   2.5688512   2.6003346  ...  2.6574128   0.05425843\n",
      "   2.6184466 ]\n",
      " [ 2.5390525   2.5121558   2.5303688  ...  2.6380796   0.69374543\n",
      "   2.6643732 ]\n",
      " [ 2.477606    2.497757    2.5137978  ...  2.6403813   0.74853414\n",
      "   2.6539145 ]]\n",
      "[[-0.7823202  -0.66149646 -0.76427567 ... -0.60809183 -0.36558664\n",
      "  -0.5962742 ]\n",
      " [-0.6704499  -0.6872117  -0.6677291  ... -0.58718264 -0.4474715\n",
      "  -0.5856375 ]\n",
      " [-0.67819613 -0.63042396 -0.6610017  ... -0.5940918  -0.32739073\n",
      "  -0.59771633]\n",
      " ...\n",
      " [ 1.6375741   1.6228715   1.6526632  ...  1.6788454  -0.7437134\n",
      "   1.6583192 ]\n",
      " [ 1.6440593   1.6207287   1.6399359  ...  1.619572   -0.19747354\n",
      "   1.6063985 ]\n",
      " [ 1.630008    1.6225144   1.6672089  ...  1.5864806   0.01426466\n",
      "   1.6193787 ]]\n",
      "[ 3.484375  3.578125  3.609375 ... 44.115    44.       45.405   ]\n",
      "[ 51.075  50.74   50.91  ... 111.87  112.23  112.34 ]\n"
     ]
    }
   ],
   "source": [
    "print(train_NN)\n",
    "print(test_NN)\n",
    "print(y_train2)\n",
    "print(y_test2)"
   ]
  },
  {
   "cell_type": "markdown",
   "metadata": {},
   "source": [
    "Moving on to the fully connected neural network. We need to do some data wrangling. First off, we need to change the data from 7 day sequence of 5 fields into a 35 field record. Then, we need to do some structure formatting to interface with tensorflow. After doing preprocessing, we are ready for model building."
   ]
  },
  {
   "cell_type": "code",
   "execution_count": 113,
   "metadata": {},
   "outputs": [
    {
     "name": "stdout",
     "output_type": "stream",
     "text": [
      "0\n",
      "Train on 3066 samples, validate on 1310 samples\n",
      "Epoch 1/100\n",
      "3066/3066 - 18s - loss: 210.7895 - val_loss: 4253.5541\n",
      "Epoch 2/100\n",
      "3066/3066 - 1s - loss: 65.7728 - val_loss: 3569.4628\n",
      "Epoch 3/100\n",
      "3066/3066 - 1s - loss: 44.8690 - val_loss: 3488.7006\n",
      "Epoch 4/100\n",
      "3066/3066 - 1s - loss: 42.0661 - val_loss: 3461.2532\n",
      "Epoch 5/100\n",
      "3066/3066 - 1s - loss: 38.4576 - val_loss: 3464.0966\n",
      "Epoch 6/100\n",
      "3066/3066 - 1s - loss: 33.4760 - val_loss: 3420.4331\n",
      "Epoch 7/100\n",
      "3066/3066 - 1s - loss: 27.4198 - val_loss: 3350.0659\n",
      "Epoch 8/100\n",
      "3066/3066 - 1s - loss: 21.3884 - val_loss: 3302.3737\n",
      "Epoch 9/100\n",
      "3066/3066 - 1s - loss: 15.8614 - val_loss: 3259.4184\n",
      "Epoch 10/100\n",
      "3066/3066 - 1s - loss: 11.2376 - val_loss: 3251.6178\n",
      "Epoch 11/100\n",
      "3066/3066 - 1s - loss: 7.7733 - val_loss: 3191.5909\n",
      "Epoch 12/100\n",
      "3066/3066 - 1s - loss: 5.3417 - val_loss: 3180.6238\n",
      "Epoch 13/100\n",
      "3066/3066 - 1s - loss: 3.7676 - val_loss: 3153.6434\n",
      "Epoch 14/100\n",
      "3066/3066 - 1s - loss: 2.7655 - val_loss: 3103.3519\n",
      "Epoch 15/100\n",
      "3066/3066 - 1s - loss: 2.1491 - val_loss: 3118.3109\n",
      "Epoch 16/100\n",
      "3066/3066 - 1s - loss: 1.7796 - val_loss: 3081.0034\n",
      "Epoch 17/100\n",
      "3066/3066 - 1s - loss: 1.4797 - val_loss: 3087.8380\n",
      "Epoch 18/100\n",
      "3066/3066 - 1s - loss: 1.2286 - val_loss: 3094.1661\n",
      "Epoch 19/100\n",
      "3066/3066 - 1s - loss: 1.0564 - val_loss: 3064.2011\n",
      "Epoch 20/100\n",
      "3066/3066 - 1s - loss: 0.9473 - val_loss: 3062.0777\n",
      "Epoch 21/100\n",
      "3066/3066 - 1s - loss: 0.8410 - val_loss: 3063.7336\n",
      "Epoch 22/100\n",
      "3066/3066 - 1s - loss: 0.6978 - val_loss: 3046.7092\n",
      "Epoch 23/100\n",
      "3066/3066 - 1s - loss: 0.5955 - val_loss: 3051.2275\n",
      "Epoch 24/100\n",
      "3066/3066 - 1s - loss: 0.5257 - val_loss: 3057.3433\n",
      "Epoch 25/100\n",
      "3066/3066 - 1s - loss: 0.4704 - val_loss: 3043.1217\n",
      "Epoch 26/100\n",
      "3066/3066 - 1s - loss: 0.4468 - val_loss: 3051.6215\n",
      "Epoch 27/100\n",
      "3066/3066 - 1s - loss: 0.4138 - val_loss: 3059.2599\n",
      "Epoch 28/100\n",
      "3066/3066 - 1s - loss: 0.3921 - val_loss: 3062.5918\n",
      "Epoch 29/100\n",
      "3066/3066 - 1s - loss: 0.3723 - val_loss: 3043.0232\n",
      "Epoch 30/100\n",
      "3066/3066 - 1s - loss: 0.3694 - val_loss: 3054.0328\n",
      "Epoch 31/100\n",
      "3066/3066 - 1s - loss: 0.3418 - val_loss: 3047.6156\n",
      "Epoch 32/100\n",
      "3066/3066 - 1s - loss: 0.3377 - val_loss: 3053.8906\n",
      "Epoch 33/100\n",
      "3066/3066 - 1s - loss: 0.3397 - val_loss: 3047.4159\n",
      "Epoch 34/100\n",
      "3066/3066 - 0s - loss: 0.3244 - val_loss: 3056.9956\n",
      "Epoch 00034: early stopping\n",
      "Training finished...Loading the best model\n",
      "\n",
      "0\n",
      "Train on 3066 samples, validate on 1310 samples\n",
      "Epoch 1/100\n",
      "3066/3066 - 10s - loss: nan - val_loss: nan\n"
     ]
    },
    {
     "name": "stderr",
     "output_type": "stream",
     "text": [
      "C:\\Users\\Owner\\Anaconda3\\lib\\site-packages\\tensorflow_core\\python\\keras\\callbacks.py:1230: RuntimeWarning: invalid value encountered in less\n",
      "  if self.monitor_op(current - self.min_delta, self.best):\n",
      "C:\\Users\\Owner\\Anaconda3\\lib\\site-packages\\tensorflow_core\\python\\keras\\callbacks.py:995: RuntimeWarning: invalid value encountered in less\n",
      "  if self.monitor_op(current, self.best):\n"
     ]
    },
    {
     "name": "stdout",
     "output_type": "stream",
     "text": [
      "Epoch 2/100\n",
      "3066/3066 - 1s - loss: nan - val_loss: nan\n",
      "Epoch 3/100\n",
      "3066/3066 - 1s - loss: nan - val_loss: nan\n",
      "Epoch 4/100\n",
      "3066/3066 - 1s - loss: nan - val_loss: nan\n",
      "Epoch 5/100\n",
      "3066/3066 - 1s - loss: nan - val_loss: nan\n",
      "Epoch 00005: early stopping\n",
      "Training finished...Loading the best model\n",
      "\n",
      "0\n",
      "Train on 3066 samples, validate on 1310 samples\n",
      "Epoch 1/100\n",
      "3066/3066 - 18s - loss: 280.3626 - val_loss: 4884.9124\n",
      "Epoch 2/100\n",
      "3066/3066 - 1s - loss: 219.8564 - val_loss: 4633.0001\n",
      "Epoch 3/100\n",
      "3066/3066 - 1s - loss: 176.9858 - val_loss: 4397.5751\n",
      "Epoch 4/100\n",
      "3066/3066 - 1s - loss: 138.9309 - val_loss: 4160.9967\n",
      "Epoch 5/100\n",
      "3066/3066 - 1s - loss: 106.4769 - val_loss: 3938.4000\n",
      "Epoch 6/100\n",
      "3066/3066 - 1s - loss: 80.5117 - val_loss: 3745.2858\n",
      "Epoch 7/100\n",
      "3066/3066 - 1s - loss: 61.8800 - val_loss: 3584.1147\n",
      "Epoch 8/100\n",
      "3066/3066 - 1s - loss: 48.6424 - val_loss: 3449.2271\n",
      "Epoch 9/100\n",
      "3066/3066 - 1s - loss: 39.2449 - val_loss: 3337.0547\n",
      "Epoch 10/100\n",
      "3066/3066 - 1s - loss: 32.3807 - val_loss: 3243.5206\n",
      "Epoch 11/100\n",
      "3066/3066 - 1s - loss: 26.9060 - val_loss: 3160.7072\n",
      "Epoch 12/100\n",
      "3066/3066 - 1s - loss: 23.0701 - val_loss: 3096.4528\n",
      "Epoch 13/100\n",
      "3066/3066 - 1s - loss: 20.2639 - val_loss: 3042.5703\n",
      "Epoch 14/100\n",
      "3066/3066 - 1s - loss: 18.0740 - val_loss: 3004.7946\n",
      "Epoch 15/100\n",
      "3066/3066 - 1s - loss: 16.2618 - val_loss: 2972.7283\n",
      "Epoch 16/100\n",
      "3066/3066 - 1s - loss: 14.6645 - val_loss: 2950.4175\n",
      "Epoch 17/100\n",
      "3066/3066 - 1s - loss: 13.2296 - val_loss: 2936.1678\n",
      "Epoch 18/100\n",
      "3066/3066 - 1s - loss: 11.8820 - val_loss: 2925.1954\n",
      "Epoch 19/100\n",
      "3066/3066 - 1s - loss: 10.6395 - val_loss: 2916.8847\n",
      "Epoch 20/100\n",
      "3066/3066 - 1s - loss: 9.4975 - val_loss: 2909.4874\n",
      "Epoch 21/100\n",
      "3066/3066 - 1s - loss: 8.4702 - val_loss: 2906.4351\n",
      "Epoch 22/100\n",
      "3066/3066 - 1s - loss: 7.5423 - val_loss: 2904.8197\n",
      "Epoch 23/100\n",
      "3066/3066 - 1s - loss: 6.7156 - val_loss: 2904.2574\n",
      "Epoch 24/100\n",
      "3066/3066 - 1s - loss: 5.9788 - val_loss: 2908.4428\n",
      "Epoch 25/100\n",
      "3066/3066 - 1s - loss: 5.3364 - val_loss: 2906.4899\n",
      "Epoch 26/100\n",
      "3066/3066 - 1s - loss: 4.7849 - val_loss: 2911.7618\n",
      "Epoch 27/100\n",
      "3066/3066 - 1s - loss: 4.2761 - val_loss: 2915.6071\n",
      "Epoch 28/100\n",
      "3066/3066 - 1s - loss: 3.8518 - val_loss: 2910.6439\n",
      "Epoch 00028: early stopping\n",
      "Training finished...Loading the best model\n",
      "\n",
      "0\n",
      "Train on 3066 samples, validate on 1310 samples\n",
      "Epoch 1/100\n",
      "3066/3066 - 17s - loss: 21.8489 - val_loss: 2904.8928\n",
      "Epoch 2/100\n",
      "3066/3066 - 1s - loss: 3.4711 - val_loss: 2876.5867\n",
      "Epoch 3/100\n",
      "3066/3066 - 1s - loss: 1.9270 - val_loss: 2933.8536\n",
      "Epoch 4/100\n",
      "3066/3066 - 1s - loss: 1.3393 - val_loss: 2939.5963\n",
      "Epoch 5/100\n",
      "3066/3066 - 1s - loss: 1.0515 - val_loss: 2901.9181\n",
      "Epoch 6/100\n",
      "3066/3066 - 1s - loss: 0.9455 - val_loss: 2953.3481\n",
      "Epoch 7/100\n",
      "3066/3066 - 0s - loss: 0.8586 - val_loss: 2979.9592\n",
      "Epoch 00007: early stopping\n",
      "Training finished...Loading the best model\n",
      "\n",
      "0\n",
      "Train on 3066 samples, validate on 1310 samples\n",
      "Epoch 1/100\n",
      "3066/3066 - 19s - loss: 301.1680 - val_loss: 5091.6977\n",
      "Epoch 2/100\n",
      "3066/3066 - 1s - loss: 258.4193 - val_loss: 4901.3459\n",
      "Epoch 3/100\n",
      "3066/3066 - 1s - loss: 212.8107 - val_loss: 4651.2901\n",
      "Epoch 4/100\n",
      "3066/3066 - 1s - loss: 163.4516 - val_loss: 4368.3475\n",
      "Epoch 5/100\n",
      "3066/3066 - 1s - loss: 118.0008 - val_loss: 4081.0579\n",
      "Epoch 6/100\n",
      "3066/3066 - 1s - loss: 81.8246 - val_loss: 3827.0216\n",
      "Epoch 7/100\n",
      "3066/3066 - 1s - loss: 56.3506 - val_loss: 3614.9486\n",
      "Epoch 8/100\n",
      "3066/3066 - 1s - loss: 39.6474 - val_loss: 3424.3361\n",
      "Epoch 9/100\n",
      "3066/3066 - 1s - loss: 29.1601 - val_loss: 3304.0356\n",
      "Epoch 10/100\n",
      "3066/3066 - 1s - loss: 22.6632 - val_loss: 3198.4493\n",
      "Epoch 11/100\n",
      "3066/3066 - 1s - loss: 18.5518 - val_loss: 3131.1805\n",
      "Epoch 12/100\n",
      "3066/3066 - 1s - loss: 15.7610 - val_loss: 3066.7518\n",
      "Epoch 13/100\n",
      "3066/3066 - 1s - loss: 13.6928 - val_loss: 3033.2757\n",
      "Epoch 14/100\n",
      "3066/3066 - 1s - loss: 12.0641 - val_loss: 3008.0619\n",
      "Epoch 15/100\n",
      "3066/3066 - 1s - loss: 10.6742 - val_loss: 2991.0205\n",
      "Epoch 16/100\n",
      "3066/3066 - 1s - loss: 9.3354 - val_loss: 2983.3540\n",
      "Epoch 17/100\n",
      "3066/3066 - 1s - loss: 8.2111 - val_loss: 2991.4908\n",
      "Epoch 18/100\n",
      "3066/3066 - 1s - loss: 7.2149 - val_loss: 2972.6464\n",
      "Epoch 19/100\n",
      "3066/3066 - 1s - loss: 6.3200 - val_loss: 2979.4701\n",
      "Epoch 20/100\n",
      "3066/3066 - 1s - loss: 5.5055 - val_loss: 2986.2819\n",
      "Epoch 21/100\n",
      "3066/3066 - 1s - loss: 4.7545 - val_loss: 2978.1680\n",
      "Epoch 22/100\n",
      "3066/3066 - 1s - loss: 4.1236 - val_loss: 2994.7484\n",
      "Epoch 23/100\n",
      "3066/3066 - 1s - loss: 3.5241 - val_loss: 2985.5633\n",
      "Epoch 00023: early stopping\n",
      "Training finished...Loading the best model\n",
      "\n",
      "0\n",
      "Train on 3066 samples, validate on 1310 samples\n",
      "Epoch 1/100\n",
      "3066/3066 - 17s - loss: 58.4606 - val_loss: 2898.2773\n",
      "Epoch 2/100\n",
      "3066/3066 - 1s - loss: 9.7017 - val_loss: 2788.6215\n",
      "Epoch 3/100\n",
      "3066/3066 - 1s - loss: 5.1814 - val_loss: 2774.6803\n",
      "Epoch 4/100\n",
      "3066/3066 - 1s - loss: 4.5535 - val_loss: 3021.7348\n",
      "Epoch 5/100\n",
      "3066/3066 - 1s - loss: 4.0717 - val_loss: 3066.2983\n",
      "Epoch 6/100\n",
      "3066/3066 - 1s - loss: 3.0440 - val_loss: 2988.3459\n",
      "Epoch 7/100\n",
      "3066/3066 - 0s - loss: 2.3931 - val_loss: 2959.5889\n",
      "Epoch 8/100\n",
      "3066/3066 - 1s - loss: 1.8102 - val_loss: 2964.7049\n",
      "Epoch 00008: early stopping\n",
      "Training finished...Loading the best model\n",
      "\n"
     ]
    }
   ],
   "source": [
    "myDict2 = dict()\n",
    "activationType = ['relu', 'sigmoid', 'tanh']\n",
    "optimizerType = ['adam', 'sgd']\n",
    "iteration = 0\n",
    "\n",
    "for act in activationType:\n",
    "    for opt in optimizerType:\n",
    "        checkpointer2 = ModelCheckpoint(filepath=\"C:/Users/Owner/Documents/Sac State/csc215/proj2/best_weights2.hdf5\", verbose=0, save_best_only=True) # save best model\n",
    "        \n",
    "        for i in range(1):\n",
    "            print(i)\n",
    "            model_NN = Sequential()\n",
    "            model_NN.add(Dense(35, input_dim=train_NN.shape[1], activation=act))\n",
    "            model_NN.add(Dense(1))\n",
    "            model_NN.compile(loss='mean_squared_error', optimizer=opt)        \n",
    "            monitor = EarlyStopping(monitor='val_loss', min_delta=1e-3, patience=5, verbose=1, mode='auto')        \n",
    "            model_NN.fit(train_NN,y_train2,validation_data=(test_NN,y_test2),callbacks=[monitor, checkpointer2],verbose=2,epochs=100)\n",
    "\n",
    "        print('Training finished...Loading the best model')  \n",
    "        print()\n",
    "        model_NN.load_weights(\"C:/Users/Owner/Documents/Sac State/csc215/proj2/best_weights2.hdf5\") # load weights from best model\n",
    "        myDict2.update({iteration : (act, opt, model_NN)})\n",
    "        iteration += 1\n"
   ]
  },
  {
   "cell_type": "markdown",
   "metadata": {},
   "source": [
    "Similar to our LTSM, we use early stopping and model checkpointing to iterate (and avoid local optima) and save the weights to reference our best model. However, we are iterating through activation layer types as well as optimerizers. An observation about training these models is that they are much faster than the LTSM (in terms of training time per epoch). However, many more epochs are needed to reache the lost cutoff point."
   ]
  },
  {
   "cell_type": "code",
   "execution_count": 114,
   "metadata": {},
   "outputs": [
    {
     "name": "stdout",
     "output_type": "stream",
     "text": [
      "Analyzing model with activation relu and optimizer adam\n"
     ]
    },
    {
     "data": {
      "image/png": "[encoded data removed]",
      "text/plain": [
       "<Figure size 432x288 with 1 Axes>"
      ]
     },
     "metadata": {
      "needs_background": "light"
     },
     "output_type": "display_data"
    },
    {
     "name": "stdout",
     "output_type": "stream",
     "text": [
      "Score (RMSE): 55.163604157686365\n",
      "Analyzing model with activation relu and optimizer sgd\n"
     ]
    },
    {
     "data": {
      "image/png": "[encoded data removed]",
      "text/plain": [
       "<Figure size 432x288 with 1 Axes>"
      ]
     },
     "metadata": {
      "needs_background": "light"
     },
     "output_type": "display_data"
    },
    {
     "name": "stdout",
     "output_type": "stream",
     "text": [
      "Score (RMSE): 55.163604157686365\n",
      "Analyzing model with activation sigmoid and optimizer adam\n"
     ]
    },
    {
     "data": {
      "image/png": "[encoded data removed]",
      "text/plain": [
       "<Figure size 432x288 with 1 Axes>"
      ]
     },
     "metadata": {
      "needs_background": "light"
     },
     "output_type": "display_data"
    },
    {
     "name": "stdout",
     "output_type": "stream",
     "text": [
      "Score (RMSE): 53.891162011847086\n",
      "Analyzing model with activation sigmoid and optimizer sgd\n"
     ]
    },
    {
     "data": {
      "image/png": "[encoded data removed]",
      "text/plain": [
       "<Figure size 432x288 with 1 Axes>"
      ]
     },
     "metadata": {
      "needs_background": "light"
     },
     "output_type": "display_data"
    },
    {
     "name": "stdout",
     "output_type": "stream",
     "text": [
      "Score (RMSE): 53.63382021022067\n",
      "Analyzing model with activation tanh and optimizer adam\n"
     ]
    },
    {
     "data": {
      "image/png": "[encoded data removed]",
      "text/plain": [
       "<Figure size 432x288 with 1 Axes>"
      ]
     },
     "metadata": {
      "needs_background": "light"
     },
     "output_type": "display_data"
    },
    {
     "name": "stdout",
     "output_type": "stream",
     "text": [
      "Score (RMSE): 54.521980941405054\n",
      "Analyzing model with activation tanh and optimizer sgd\n"
     ]
    },
    {
     "data": {
      "image/png": "[encoded data removed]",
      "text/plain": [
       "<Figure size 432x288 with 1 Axes>"
      ]
     },
     "metadata": {
      "needs_background": "light"
     },
     "output_type": "display_data"
    },
    {
     "name": "stdout",
     "output_type": "stream",
     "text": [
      "Score (RMSE): 52.67523390970125\n"
     ]
    }
   ],
   "source": [
    "for ele in myDict2.values():\n",
    "    print('Analyzing model with activation {} and optimizer {}'.format(ele[0], ele[1]))\n",
    "    model_NN = ele[2]\n",
    "    pred_NN = model_NN.predict(test_NN)\n",
    "       \n",
    "    score_NN = np.sqrt(metrics.mean_squared_error(pred_NN,obs_test))\n",
    "    chart_regression(pred_NN,obs_test)\n",
    "    print(\"Score (RMSE): {}\".format(score_NN))\n",
    "    "
   ]
  },
  {
   "cell_type": "markdown",
   "metadata": {},
   "source": [
    "We see again that our model suffers due to the normalization of the input variable 'Close' we will construct a model this variable in its raw form."
   ]
  },
  {
   "cell_type": "code",
   "execution_count": 129,
   "metadata": {},
   "outputs": [
    {
     "name": "stdout",
     "output_type": "stream",
     "text": [
      "Training set has 3074 records.\n",
      "Test set has 1318 records.\n"
     ]
    },
    {
     "name": "stderr",
     "output_type": "stream",
     "text": [
      "C:\\Users\\Owner\\Anaconda3\\lib\\site-packages\\ipykernel_launcher.py:23: SettingWithCopyWarning: \n",
      "A value is trying to be set on a copy of a slice from a DataFrame.\n",
      "Try using .loc[row_indexer,col_indexer] = value instead\n",
      "\n",
      "See the caveats in the documentation: http://pandas.pydata.org/pandas-docs/stable/user_guide/indexing.html#returning-a-view-versus-a-copy\n"
     ]
    },
    {
     "name": "stdout",
     "output_type": "stream",
     "text": [
      "Train on 3066 samples, validate on 1310 samples\n",
      "Epoch 1/100\n"
     ]
    },
    {
     "ename": "KeyboardInterrupt",
     "evalue": "",
     "output_type": "error",
     "traceback": [
      "\u001b[1;31m---------------------------------------------------------------------------\u001b[0m",
      "\u001b[1;31mKeyboardInterrupt\u001b[0m                         Traceback (most recent call last)",
      "\u001b[1;32m<ipython-input-129-656240cffaa9>\u001b[0m in \u001b[0;36m<module>\u001b[1;34m\u001b[0m\n\u001b[0;32m    111\u001b[0m \u001b[0mmodel_NN\u001b[0m\u001b[1;33m.\u001b[0m\u001b[0mcompile\u001b[0m\u001b[1;33m(\u001b[0m\u001b[0mloss\u001b[0m\u001b[1;33m=\u001b[0m\u001b[1;34m'mean_squared_error'\u001b[0m\u001b[1;33m,\u001b[0m \u001b[0moptimizer\u001b[0m\u001b[1;33m=\u001b[0m\u001b[1;34m'adam'\u001b[0m\u001b[1;33m)\u001b[0m\u001b[1;33m\u001b[0m\u001b[1;33m\u001b[0m\u001b[0m\n\u001b[0;32m    112\u001b[0m \u001b[0mmonitor\u001b[0m \u001b[1;33m=\u001b[0m \u001b[0mEarlyStopping\u001b[0m\u001b[1;33m(\u001b[0m\u001b[0mmonitor\u001b[0m\u001b[1;33m=\u001b[0m\u001b[1;34m'val_loss'\u001b[0m\u001b[1;33m,\u001b[0m \u001b[0mmin_delta\u001b[0m\u001b[1;33m=\u001b[0m\u001b[1;36m1e-3\u001b[0m\u001b[1;33m,\u001b[0m \u001b[0mpatience\u001b[0m\u001b[1;33m=\u001b[0m\u001b[1;36m5\u001b[0m\u001b[1;33m,\u001b[0m \u001b[0mverbose\u001b[0m\u001b[1;33m=\u001b[0m\u001b[1;36m1\u001b[0m\u001b[1;33m,\u001b[0m \u001b[0mmode\u001b[0m\u001b[1;33m=\u001b[0m\u001b[1;34m'auto'\u001b[0m\u001b[1;33m)\u001b[0m\u001b[1;33m\u001b[0m\u001b[1;33m\u001b[0m\u001b[0m\n\u001b[1;32m--> 113\u001b[1;33m \u001b[0mmodel_NN\u001b[0m\u001b[1;33m.\u001b[0m\u001b[0mfit\u001b[0m\u001b[1;33m(\u001b[0m\u001b[0mtrain_NN\u001b[0m\u001b[1;33m,\u001b[0m\u001b[0my_train2\u001b[0m\u001b[1;33m,\u001b[0m\u001b[0mvalidation_data\u001b[0m\u001b[1;33m=\u001b[0m\u001b[1;33m(\u001b[0m\u001b[0mtest_NN\u001b[0m\u001b[1;33m,\u001b[0m\u001b[0my_test2\u001b[0m\u001b[1;33m)\u001b[0m\u001b[1;33m,\u001b[0m\u001b[0mcallbacks\u001b[0m\u001b[1;33m=\u001b[0m\u001b[1;33m[\u001b[0m\u001b[0mmonitor\u001b[0m\u001b[1;33m,\u001b[0m \u001b[0mcheckpointer2\u001b[0m\u001b[1;33m]\u001b[0m\u001b[1;33m,\u001b[0m\u001b[0mverbose\u001b[0m\u001b[1;33m=\u001b[0m\u001b[1;36m2\u001b[0m\u001b[1;33m,\u001b[0m\u001b[0mepochs\u001b[0m\u001b[1;33m=\u001b[0m\u001b[1;36m100\u001b[0m\u001b[1;33m)\u001b[0m\u001b[1;33m\u001b[0m\u001b[1;33m\u001b[0m\u001b[0m\n\u001b[0m\u001b[0;32m    114\u001b[0m \u001b[1;33m\u001b[0m\u001b[0m\n\u001b[0;32m    115\u001b[0m \u001b[0mprint\u001b[0m\u001b[1;33m(\u001b[0m\u001b[1;34m'Training finished...Loading the best model'\u001b[0m\u001b[1;33m)\u001b[0m\u001b[1;33m\u001b[0m\u001b[1;33m\u001b[0m\u001b[0m\n",
      "\u001b[1;32m~\\Anaconda3\\lib\\site-packages\\tensorflow_core\\python\\keras\\engine\\training.py\u001b[0m in \u001b[0;36mfit\u001b[1;34m(self, x, y, batch_size, epochs, verbose, callbacks, validation_split, validation_data, shuffle, class_weight, sample_weight, initial_epoch, steps_per_epoch, validation_steps, validation_freq, max_queue_size, workers, use_multiprocessing, **kwargs)\u001b[0m\n\u001b[0;32m    725\u001b[0m         \u001b[0mmax_queue_size\u001b[0m\u001b[1;33m=\u001b[0m\u001b[0mmax_queue_size\u001b[0m\u001b[1;33m,\u001b[0m\u001b[1;33m\u001b[0m\u001b[1;33m\u001b[0m\u001b[0m\n\u001b[0;32m    726\u001b[0m         \u001b[0mworkers\u001b[0m\u001b[1;33m=\u001b[0m\u001b[0mworkers\u001b[0m\u001b[1;33m,\u001b[0m\u001b[1;33m\u001b[0m\u001b[1;33m\u001b[0m\u001b[0m\n\u001b[1;32m--> 727\u001b[1;33m         use_multiprocessing=use_multiprocessing)\n\u001b[0m\u001b[0;32m    728\u001b[0m \u001b[1;33m\u001b[0m\u001b[0m\n\u001b[0;32m    729\u001b[0m   def evaluate(self,\n",
      "\u001b[1;32m~\\Anaconda3\\lib\\site-packages\\tensorflow_core\\python\\keras\\engine\\training_arrays.py\u001b[0m in \u001b[0;36mfit\u001b[1;34m(self, model, x, y, batch_size, epochs, verbose, callbacks, validation_split, validation_data, shuffle, class_weight, sample_weight, initial_epoch, steps_per_epoch, validation_steps, validation_freq, **kwargs)\u001b[0m\n\u001b[0;32m    673\u001b[0m         \u001b[0mvalidation_steps\u001b[0m\u001b[1;33m=\u001b[0m\u001b[0mvalidation_steps\u001b[0m\u001b[1;33m,\u001b[0m\u001b[1;33m\u001b[0m\u001b[1;33m\u001b[0m\u001b[0m\n\u001b[0;32m    674\u001b[0m         \u001b[0mvalidation_freq\u001b[0m\u001b[1;33m=\u001b[0m\u001b[0mvalidation_freq\u001b[0m\u001b[1;33m,\u001b[0m\u001b[1;33m\u001b[0m\u001b[1;33m\u001b[0m\u001b[0m\n\u001b[1;32m--> 675\u001b[1;33m         steps_name='steps_per_epoch')\n\u001b[0m\u001b[0;32m    676\u001b[0m \u001b[1;33m\u001b[0m\u001b[0m\n\u001b[0;32m    677\u001b[0m   def evaluate(self,\n",
      "\u001b[1;32m~\\Anaconda3\\lib\\site-packages\\tensorflow_core\\python\\keras\\engine\\training_arrays.py\u001b[0m in \u001b[0;36mmodel_iteration\u001b[1;34m(model, inputs, targets, sample_weights, batch_size, epochs, verbose, callbacks, val_inputs, val_targets, val_sample_weights, shuffle, initial_epoch, steps_per_epoch, validation_steps, validation_freq, mode, validation_in_fit, prepared_feed_values_from_dataset, steps_name, **kwargs)\u001b[0m\n\u001b[0;32m    392\u001b[0m \u001b[1;33m\u001b[0m\u001b[0m\n\u001b[0;32m    393\u001b[0m         \u001b[1;31m# Get outputs.\u001b[0m\u001b[1;33m\u001b[0m\u001b[1;33m\u001b[0m\u001b[1;33m\u001b[0m\u001b[0m\n\u001b[1;32m--> 394\u001b[1;33m         \u001b[0mbatch_outs\u001b[0m \u001b[1;33m=\u001b[0m \u001b[0mf\u001b[0m\u001b[1;33m(\u001b[0m\u001b[0mins_batch\u001b[0m\u001b[1;33m)\u001b[0m\u001b[1;33m\u001b[0m\u001b[1;33m\u001b[0m\u001b[0m\n\u001b[0m\u001b[0;32m    395\u001b[0m         \u001b[1;32mif\u001b[0m \u001b[1;32mnot\u001b[0m \u001b[0misinstance\u001b[0m\u001b[1;33m(\u001b[0m\u001b[0mbatch_outs\u001b[0m\u001b[1;33m,\u001b[0m \u001b[0mlist\u001b[0m\u001b[1;33m)\u001b[0m\u001b[1;33m:\u001b[0m\u001b[1;33m\u001b[0m\u001b[1;33m\u001b[0m\u001b[0m\n\u001b[0;32m    396\u001b[0m           \u001b[0mbatch_outs\u001b[0m \u001b[1;33m=\u001b[0m \u001b[1;33m[\u001b[0m\u001b[0mbatch_outs\u001b[0m\u001b[1;33m]\u001b[0m\u001b[1;33m\u001b[0m\u001b[1;33m\u001b[0m\u001b[0m\n",
      "\u001b[1;32m~\\Anaconda3\\lib\\site-packages\\tensorflow_core\\python\\keras\\backend.py\u001b[0m in \u001b[0;36m__call__\u001b[1;34m(self, inputs)\u001b[0m\n\u001b[0;32m   3439\u001b[0m     \u001b[0minputs\u001b[0m \u001b[1;33m=\u001b[0m \u001b[0mnest\u001b[0m\u001b[1;33m.\u001b[0m\u001b[0mflatten\u001b[0m\u001b[1;33m(\u001b[0m\u001b[0minputs\u001b[0m\u001b[1;33m,\u001b[0m \u001b[0mexpand_composites\u001b[0m\u001b[1;33m=\u001b[0m\u001b[1;32mTrue\u001b[0m\u001b[1;33m)\u001b[0m\u001b[1;33m\u001b[0m\u001b[1;33m\u001b[0m\u001b[0m\n\u001b[0;32m   3440\u001b[0m \u001b[1;33m\u001b[0m\u001b[0m\n\u001b[1;32m-> 3441\u001b[1;33m     \u001b[0msession\u001b[0m \u001b[1;33m=\u001b[0m \u001b[0mget_session\u001b[0m\u001b[1;33m(\u001b[0m\u001b[0minputs\u001b[0m\u001b[1;33m)\u001b[0m\u001b[1;33m\u001b[0m\u001b[1;33m\u001b[0m\u001b[0m\n\u001b[0m\u001b[0;32m   3442\u001b[0m     \u001b[0mfeed_arrays\u001b[0m \u001b[1;33m=\u001b[0m \u001b[1;33m[\u001b[0m\u001b[1;33m]\u001b[0m\u001b[1;33m\u001b[0m\u001b[1;33m\u001b[0m\u001b[0m\n\u001b[0;32m   3443\u001b[0m     \u001b[0marray_vals\u001b[0m \u001b[1;33m=\u001b[0m \u001b[1;33m[\u001b[0m\u001b[1;33m]\u001b[0m\u001b[1;33m\u001b[0m\u001b[1;33m\u001b[0m\u001b[0m\n",
      "\u001b[1;32m~\\Anaconda3\\lib\\site-packages\\tensorflow_core\\python\\keras\\backend.py\u001b[0m in \u001b[0;36mget_session\u001b[1;34m(op_input_list)\u001b[0m\n\u001b[0;32m    484\u001b[0m   \u001b[1;32mif\u001b[0m \u001b[1;32mnot\u001b[0m \u001b[0m_MANUAL_VAR_INIT\u001b[0m\u001b[1;33m:\u001b[0m\u001b[1;33m\u001b[0m\u001b[1;33m\u001b[0m\u001b[0m\n\u001b[0;32m    485\u001b[0m     \u001b[1;32mwith\u001b[0m \u001b[0msession\u001b[0m\u001b[1;33m.\u001b[0m\u001b[0mgraph\u001b[0m\u001b[1;33m.\u001b[0m\u001b[0mas_default\u001b[0m\u001b[1;33m(\u001b[0m\u001b[1;33m)\u001b[0m\u001b[1;33m:\u001b[0m\u001b[1;33m\u001b[0m\u001b[1;33m\u001b[0m\u001b[0m\n\u001b[1;32m--> 486\u001b[1;33m       \u001b[0m_initialize_variables\u001b[0m\u001b[1;33m(\u001b[0m\u001b[0msession\u001b[0m\u001b[1;33m)\u001b[0m\u001b[1;33m\u001b[0m\u001b[1;33m\u001b[0m\u001b[0m\n\u001b[0m\u001b[0;32m    487\u001b[0m   \u001b[1;32mreturn\u001b[0m \u001b[0msession\u001b[0m\u001b[1;33m\u001b[0m\u001b[1;33m\u001b[0m\u001b[0m\n\u001b[0;32m    488\u001b[0m \u001b[1;33m\u001b[0m\u001b[0m\n",
      "\u001b[1;32m~\\Anaconda3\\lib\\site-packages\\tensorflow_core\\python\\keras\\backend.py\u001b[0m in \u001b[0;36m_initialize_variables\u001b[1;34m(session)\u001b[0m\n\u001b[0;32m    901\u001b[0m     \u001b[1;31m# marked as initialized.\u001b[0m\u001b[1;33m\u001b[0m\u001b[1;33m\u001b[0m\u001b[1;33m\u001b[0m\u001b[0m\n\u001b[0;32m    902\u001b[0m     is_initialized = session.run(\n\u001b[1;32m--> 903\u001b[1;33m         [variables_module.is_variable_initialized(v) for v in candidate_vars])\n\u001b[0m\u001b[0;32m    904\u001b[0m     \u001b[0muninitialized_vars\u001b[0m \u001b[1;33m=\u001b[0m \u001b[1;33m[\u001b[0m\u001b[1;33m]\u001b[0m\u001b[1;33m\u001b[0m\u001b[1;33m\u001b[0m\u001b[0m\n\u001b[0;32m    905\u001b[0m     \u001b[1;32mfor\u001b[0m \u001b[0mflag\u001b[0m\u001b[1;33m,\u001b[0m \u001b[0mv\u001b[0m \u001b[1;32min\u001b[0m \u001b[0mzip\u001b[0m\u001b[1;33m(\u001b[0m\u001b[0mis_initialized\u001b[0m\u001b[1;33m,\u001b[0m \u001b[0mcandidate_vars\u001b[0m\u001b[1;33m)\u001b[0m\u001b[1;33m:\u001b[0m\u001b[1;33m\u001b[0m\u001b[1;33m\u001b[0m\u001b[0m\n",
      "\u001b[1;32m~\\Anaconda3\\lib\\site-packages\\tensorflow_core\\python\\client\\session.py\u001b[0m in \u001b[0;36mrun\u001b[1;34m(self, fetches, feed_dict, options, run_metadata)\u001b[0m\n\u001b[0;32m    954\u001b[0m     \u001b[1;32mtry\u001b[0m\u001b[1;33m:\u001b[0m\u001b[1;33m\u001b[0m\u001b[1;33m\u001b[0m\u001b[0m\n\u001b[0;32m    955\u001b[0m       result = self._run(None, fetches, feed_dict, options_ptr,\n\u001b[1;32m--> 956\u001b[1;33m                          run_metadata_ptr)\n\u001b[0m\u001b[0;32m    957\u001b[0m       \u001b[1;32mif\u001b[0m \u001b[0mrun_metadata\u001b[0m\u001b[1;33m:\u001b[0m\u001b[1;33m\u001b[0m\u001b[1;33m\u001b[0m\u001b[0m\n\u001b[0;32m    958\u001b[0m         \u001b[0mproto_data\u001b[0m \u001b[1;33m=\u001b[0m \u001b[0mtf_session\u001b[0m\u001b[1;33m.\u001b[0m\u001b[0mTF_GetBuffer\u001b[0m\u001b[1;33m(\u001b[0m\u001b[0mrun_metadata_ptr\u001b[0m\u001b[1;33m)\u001b[0m\u001b[1;33m\u001b[0m\u001b[1;33m\u001b[0m\u001b[0m\n",
      "\u001b[1;32m~\\Anaconda3\\lib\\site-packages\\tensorflow_core\\python\\client\\session.py\u001b[0m in \u001b[0;36m_run\u001b[1;34m(self, handle, fetches, feed_dict, options, run_metadata)\u001b[0m\n\u001b[0;32m   1178\u001b[0m     \u001b[1;32mif\u001b[0m \u001b[0mfinal_fetches\u001b[0m \u001b[1;32mor\u001b[0m \u001b[0mfinal_targets\u001b[0m \u001b[1;32mor\u001b[0m \u001b[1;33m(\u001b[0m\u001b[0mhandle\u001b[0m \u001b[1;32mand\u001b[0m \u001b[0mfeed_dict_tensor\u001b[0m\u001b[1;33m)\u001b[0m\u001b[1;33m:\u001b[0m\u001b[1;33m\u001b[0m\u001b[1;33m\u001b[0m\u001b[0m\n\u001b[0;32m   1179\u001b[0m       results = self._do_run(handle, final_targets, final_fetches,\n\u001b[1;32m-> 1180\u001b[1;33m                              feed_dict_tensor, options, run_metadata)\n\u001b[0m\u001b[0;32m   1181\u001b[0m     \u001b[1;32melse\u001b[0m\u001b[1;33m:\u001b[0m\u001b[1;33m\u001b[0m\u001b[1;33m\u001b[0m\u001b[0m\n\u001b[0;32m   1182\u001b[0m       \u001b[0mresults\u001b[0m \u001b[1;33m=\u001b[0m \u001b[1;33m[\u001b[0m\u001b[1;33m]\u001b[0m\u001b[1;33m\u001b[0m\u001b[1;33m\u001b[0m\u001b[0m\n",
      "\u001b[1;32m~\\Anaconda3\\lib\\site-packages\\tensorflow_core\\python\\client\\session.py\u001b[0m in \u001b[0;36m_do_run\u001b[1;34m(self, handle, target_list, fetch_list, feed_dict, options, run_metadata)\u001b[0m\n\u001b[0;32m   1357\u001b[0m     \u001b[1;32mif\u001b[0m \u001b[0mhandle\u001b[0m \u001b[1;32mis\u001b[0m \u001b[1;32mNone\u001b[0m\u001b[1;33m:\u001b[0m\u001b[1;33m\u001b[0m\u001b[1;33m\u001b[0m\u001b[0m\n\u001b[0;32m   1358\u001b[0m       return self._do_call(_run_fn, feeds, fetches, targets, options,\n\u001b[1;32m-> 1359\u001b[1;33m                            run_metadata)\n\u001b[0m\u001b[0;32m   1360\u001b[0m     \u001b[1;32melse\u001b[0m\u001b[1;33m:\u001b[0m\u001b[1;33m\u001b[0m\u001b[1;33m\u001b[0m\u001b[0m\n\u001b[0;32m   1361\u001b[0m       \u001b[1;32mreturn\u001b[0m \u001b[0mself\u001b[0m\u001b[1;33m.\u001b[0m\u001b[0m_do_call\u001b[0m\u001b[1;33m(\u001b[0m\u001b[0m_prun_fn\u001b[0m\u001b[1;33m,\u001b[0m \u001b[0mhandle\u001b[0m\u001b[1;33m,\u001b[0m \u001b[0mfeeds\u001b[0m\u001b[1;33m,\u001b[0m \u001b[0mfetches\u001b[0m\u001b[1;33m)\u001b[0m\u001b[1;33m\u001b[0m\u001b[1;33m\u001b[0m\u001b[0m\n",
      "\u001b[1;32m~\\Anaconda3\\lib\\site-packages\\tensorflow_core\\python\\client\\session.py\u001b[0m in \u001b[0;36m_do_call\u001b[1;34m(self, fn, *args)\u001b[0m\n\u001b[0;32m   1363\u001b[0m   \u001b[1;32mdef\u001b[0m \u001b[0m_do_call\u001b[0m\u001b[1;33m(\u001b[0m\u001b[0mself\u001b[0m\u001b[1;33m,\u001b[0m \u001b[0mfn\u001b[0m\u001b[1;33m,\u001b[0m \u001b[1;33m*\u001b[0m\u001b[0margs\u001b[0m\u001b[1;33m)\u001b[0m\u001b[1;33m:\u001b[0m\u001b[1;33m\u001b[0m\u001b[1;33m\u001b[0m\u001b[0m\n\u001b[0;32m   1364\u001b[0m     \u001b[1;32mtry\u001b[0m\u001b[1;33m:\u001b[0m\u001b[1;33m\u001b[0m\u001b[1;33m\u001b[0m\u001b[0m\n\u001b[1;32m-> 1365\u001b[1;33m       \u001b[1;32mreturn\u001b[0m \u001b[0mfn\u001b[0m\u001b[1;33m(\u001b[0m\u001b[1;33m*\u001b[0m\u001b[0margs\u001b[0m\u001b[1;33m)\u001b[0m\u001b[1;33m\u001b[0m\u001b[1;33m\u001b[0m\u001b[0m\n\u001b[0m\u001b[0;32m   1366\u001b[0m     \u001b[1;32mexcept\u001b[0m \u001b[0merrors\u001b[0m\u001b[1;33m.\u001b[0m\u001b[0mOpError\u001b[0m \u001b[1;32mas\u001b[0m \u001b[0me\u001b[0m\u001b[1;33m:\u001b[0m\u001b[1;33m\u001b[0m\u001b[1;33m\u001b[0m\u001b[0m\n\u001b[0;32m   1367\u001b[0m       \u001b[0mmessage\u001b[0m \u001b[1;33m=\u001b[0m \u001b[0mcompat\u001b[0m\u001b[1;33m.\u001b[0m\u001b[0mas_text\u001b[0m\u001b[1;33m(\u001b[0m\u001b[0me\u001b[0m\u001b[1;33m.\u001b[0m\u001b[0mmessage\u001b[0m\u001b[1;33m)\u001b[0m\u001b[1;33m\u001b[0m\u001b[1;33m\u001b[0m\u001b[0m\n",
      "\u001b[1;32m~\\Anaconda3\\lib\\site-packages\\tensorflow_core\\python\\client\\session.py\u001b[0m in \u001b[0;36m_run_fn\u001b[1;34m(feed_dict, fetch_list, target_list, options, run_metadata)\u001b[0m\n\u001b[0;32m   1346\u001b[0m     \u001b[1;32mdef\u001b[0m \u001b[0m_run_fn\u001b[0m\u001b[1;33m(\u001b[0m\u001b[0mfeed_dict\u001b[0m\u001b[1;33m,\u001b[0m \u001b[0mfetch_list\u001b[0m\u001b[1;33m,\u001b[0m \u001b[0mtarget_list\u001b[0m\u001b[1;33m,\u001b[0m \u001b[0moptions\u001b[0m\u001b[1;33m,\u001b[0m \u001b[0mrun_metadata\u001b[0m\u001b[1;33m)\u001b[0m\u001b[1;33m:\u001b[0m\u001b[1;33m\u001b[0m\u001b[1;33m\u001b[0m\u001b[0m\n\u001b[0;32m   1347\u001b[0m       \u001b[1;31m# Ensure any changes to the graph are reflected in the runtime.\u001b[0m\u001b[1;33m\u001b[0m\u001b[1;33m\u001b[0m\u001b[1;33m\u001b[0m\u001b[0m\n\u001b[1;32m-> 1348\u001b[1;33m       \u001b[0mself\u001b[0m\u001b[1;33m.\u001b[0m\u001b[0m_extend_graph\u001b[0m\u001b[1;33m(\u001b[0m\u001b[1;33m)\u001b[0m\u001b[1;33m\u001b[0m\u001b[1;33m\u001b[0m\u001b[0m\n\u001b[0m\u001b[0;32m   1349\u001b[0m       return self._call_tf_sessionrun(options, feed_dict, fetch_list,\n\u001b[0;32m   1350\u001b[0m                                       target_list, run_metadata)\n",
      "\u001b[1;32m~\\Anaconda3\\lib\\site-packages\\tensorflow_core\\python\\client\\session.py\u001b[0m in \u001b[0;36m_extend_graph\u001b[1;34m(self)\u001b[0m\n\u001b[0;32m   1386\u001b[0m   \u001b[1;32mdef\u001b[0m \u001b[0m_extend_graph\u001b[0m\u001b[1;33m(\u001b[0m\u001b[0mself\u001b[0m\u001b[1;33m)\u001b[0m\u001b[1;33m:\u001b[0m\u001b[1;33m\u001b[0m\u001b[1;33m\u001b[0m\u001b[0m\n\u001b[0;32m   1387\u001b[0m     \u001b[1;32mwith\u001b[0m \u001b[0mself\u001b[0m\u001b[1;33m.\u001b[0m\u001b[0m_graph\u001b[0m\u001b[1;33m.\u001b[0m\u001b[0m_session_run_lock\u001b[0m\u001b[1;33m(\u001b[0m\u001b[1;33m)\u001b[0m\u001b[1;33m:\u001b[0m  \u001b[1;31m# pylint: disable=protected-access\u001b[0m\u001b[1;33m\u001b[0m\u001b[1;33m\u001b[0m\u001b[0m\n\u001b[1;32m-> 1388\u001b[1;33m       \u001b[0mtf_session\u001b[0m\u001b[1;33m.\u001b[0m\u001b[0mExtendSession\u001b[0m\u001b[1;33m(\u001b[0m\u001b[0mself\u001b[0m\u001b[1;33m.\u001b[0m\u001b[0m_session\u001b[0m\u001b[1;33m)\u001b[0m\u001b[1;33m\u001b[0m\u001b[1;33m\u001b[0m\u001b[0m\n\u001b[0m\u001b[0;32m   1389\u001b[0m \u001b[1;33m\u001b[0m\u001b[0m\n\u001b[0;32m   1390\u001b[0m   \u001b[1;31m# The threshold to run garbage collection to delete dead tensors.\u001b[0m\u001b[1;33m\u001b[0m\u001b[1;33m\u001b[0m\u001b[1;33m\u001b[0m\u001b[0m\n",
      "\u001b[1;31mKeyboardInterrupt\u001b[0m: "
     ]
    }
   ],
   "source": [
    "##################\n",
    "##RAW CLOSE\n",
    "##################\n",
    "dt = pd.read_csv('C:/Users/Owner/Documents/Sac State/CSC215_P2_Stock_Price.csv')\n",
    "dt['Close_y'] = dt['Close']\n",
    "split = int(0.7 * len(dt))\n",
    "df_train = dt[:split]\n",
    "df_test = dt[split:len(dt)]\n",
    "\n",
    "print(\"Training set has {} records.\".format(len(df_train)))\n",
    "print(\"Test set has {} records.\".format(len(df_test)))\n",
    "\n",
    "close_train = df_train['Close_y']\n",
    "close_test = df_test['Close_y']\n",
    "\n",
    "def encode_numeric_zscore(df, name, mean=None, sd=None):\n",
    "    if mean is None:\n",
    "        mean = df[name].mean()\n",
    "        \n",
    "    if sd is None:\n",
    "        sd = df[name].std()\n",
    "        \n",
    "    df[name] = (df[name] - mean) / sd\n",
    "\n",
    "normal_list = ['Open', 'High', 'Low', 'Volume'];\n",
    "\n",
    "for element in normal_list:\n",
    "    encode_numeric_zscore(df_train, element)\n",
    "    encode_numeric_zscore(df_test, element)    \n",
    "\n",
    "\n",
    "\n",
    "params_train = df_train[['Open', 'High', 'Low', 'Volume', 'Close']].values.tolist()\n",
    "params_test = df_test[['Open', 'High', 'Low', 'Volume', 'Close',]].values.tolist()\n",
    "\n",
    "\n",
    "SEQUENCE_SIZE = 7\n",
    "x_train,y_train = to_sequences(SEQUENCE_SIZE,params_train)\n",
    "obs_train = close_train[SEQUENCE_SIZE:len(close_train)].values.tolist()\n",
    "obs_train.pop()\n",
    "obs_train = np.asarray(obs_train)\n",
    "\n",
    "x_test,y_test = to_sequences(SEQUENCE_SIZE,params_test)\n",
    "obs_test = close_test[SEQUENCE_SIZE:len(close_test)].values.tolist()\n",
    "obs_test.pop()\n",
    "obs_test = np.asarray(obs_test)\n",
    "\n",
    "\n",
    "test_NN = []\n",
    "for ele in x_test:\n",
    "    flat_list = []\n",
    "    for sublist in ele:\n",
    "        for item in sublist:\n",
    "            flat_list.append(item)\n",
    "    test_NN.append(flat_list)\n",
    "\n",
    "train_NN = []\n",
    "for ele in x_train:\n",
    "    flat_list = []\n",
    "    for sublist in ele:\n",
    "        for item in sublist:\n",
    "            flat_list.append(item)\n",
    "    train_NN.append(flat_list)\n",
    "\n",
    "\n",
    "train_NN = pd.DataFrame(train_NN)\n",
    "train_NN['out'] = obs_train\n",
    "test_NN = pd.DataFrame(test_NN)\n",
    "test_NN['out'] = obs_test\n",
    "\n",
    "\n",
    "def to_xy(df, target):\n",
    "    result = []\n",
    "    for x in df.columns:\n",
    "        if x != target:\n",
    "            result.append(x)\n",
    "    # find out the type of the target column. \n",
    "    target_type = df[target].dtypes\n",
    "    target_type = target_type[0] if isinstance(target_type, collections.Sequence) else target_type\n",
    "    # Encode to int for classification, float otherwise. TensorFlow likes 32 bits.\n",
    "    if target_type in (np.int64, np.int32):\n",
    "        # Classification\n",
    "        dummies = pd.get_dummies(df[target])\n",
    "        return df[result].values.astype(np.float32), dummies.values.astype(np.float32)\n",
    "    else:\n",
    "        # Regression\n",
    "        return df[result].values.astype(np.float32), df[target].values.astype(np.float32)\n",
    "\n",
    "\n",
    "train_NN,y_train2 = to_xy(train_NN, 'out')\n",
    "test_NN, y_test2 = to_xy(test_NN, 'out')\n",
    "\n",
    "model_NN = Sequential()\n",
    "model_NN.add(Dense(35, input_dim=train_NN.shape[1], activation='relu'))\n",
    "model_NN.add(Dense(1))\n",
    "model_NN.compile(loss='mean_squared_error', optimizer='adam')        \n",
    "monitor = EarlyStopping(monitor='val_loss', min_delta=1e-3, patience=5, verbose=1, mode='auto')        \n",
    "model_NN.fit(train_NN,y_train2,validation_data=(test_NN,y_test2),callbacks=[monitor, checkpointer2],verbose=2,epochs=100)\n",
    "\n",
    "print('Training finished...Loading the best model')  \n",
    "print()\n",
    "model_NN.load_weights(\"C:/Users/Owner/Documents/Sac State/csc215/proj2/best_weights2.hdf5\") # load weights from best model\n",
    "myDict2.update({iteration : (act, opt, model_NN)})\n",
    "iteration += 1\n",
    "        \n",
    "pred_NN = model_NN.predict(test_NN)\n",
    "       \n",
    "score_NN = np.sqrt(metrics.mean_squared_error(pred_NN,obs_test))\n",
    "chart_regression(pred_NN,obs_test)\n",
    "print(\"Score (RMSE): {}\".format(score_NN))"
   ]
  },
  {
   "cell_type": "markdown",
   "metadata": {},
   "source": [
    "Here we see that our model performs VERY well. It looks like we probably even overfit our data here."
   ]
  },
  {
   "cell_type": "markdown",
   "metadata": {},
   "source": [
    "# Extra Features"
   ]
  },
  {
   "cell_type": "code",
   "execution_count": null,
   "metadata": {},
   "outputs": [
    {
     "name": "stderr",
     "output_type": "stream",
     "text": [
      "C:\\Users\\Owner\\Anaconda3\\lib\\site-packages\\ipykernel_launcher.py:27: SettingWithCopyWarning: \n",
      "A value is trying to be set on a copy of a slice from a DataFrame.\n",
      "Try using .loc[row_indexer,col_indexer] = value instead\n",
      "\n",
      "See the caveats in the documentation: http://pandas.pydata.org/pandas-docs/stable/user_guide/indexing.html#returning-a-view-versus-a-copy\n"
     ]
    },
    {
     "name": "stdout",
     "output_type": "stream",
     "text": [
      "Train on 3068 samples, validate on 1312 samples\n",
      "Epoch 1/100\n",
      "3068/3068 - 26s - loss: 1556.4569 - val_loss: 119.8831\n",
      "Epoch 2/100\n",
      "3068/3068 - 12s - loss: 203.0883 - val_loss: 295.7139\n",
      "Epoch 3/100\n",
      "3068/3068 - 12s - loss: 31.3490 - val_loss: 201.3664\n",
      "Epoch 4/100\n",
      "3068/3068 - 10s - loss: 16.1090 - val_loss: 146.3972\n",
      "Epoch 5/100\n",
      "3068/3068 - 10s - loss: 10.5297 - val_loss: 126.6852\n",
      "Epoch 6/100\n",
      "3068/3068 - 10s - loss: 8.6050 - val_loss: 104.5369\n",
      "Epoch 7/100\n"
     ]
    }
   ],
   "source": [
    "dt = pd.read_csv('C:/Users/Owner/Documents/Sac State/CSC215_P2_Stock_Price.csv')\n",
    "split = int(0.35 * len(dt))\n",
    "df_train = dt[:split]\n",
    "df_train = df_train.append(dt[(len(dt) - split):len(dt)])\n",
    "df_test = dt[split:(len(dt)-split)]\n",
    "\n",
    "normal_list = ['Open', 'High', 'Low', 'Volume'];\n",
    "\n",
    "for element in normal_list:\n",
    "    encode_numeric_zscore(df_train, element)\n",
    "    encode_numeric_zscore(df_test, element)    \n",
    "\n",
    "\n",
    "\n",
    "params_train = df_train[['Open', 'High', 'Low', 'Volume', 'Close']].values.tolist()\n",
    "params_test = df_test[['Open', 'High', 'Low', 'Volume', 'Close',]].values.tolist()\n",
    "\n",
    "for x in range(5,15):\n",
    "    SEQUENCE_SIZE = x\n",
    "    x_train,y_train = to_sequences(SEQUENCE_SIZE,params_train)\n",
    "    obs_train = df_train['Close'][SEQUENCE_SIZE:len(df_train)].values.tolist()\n",
    "    obs_train.pop()\n",
    "    obs_train = np.asarray(obs_train)\n",
    "    #print(obs_train.shape)\n",
    "    \n",
    "    x_test,y_test = to_sequences(SEQUENCE_SIZE,params_test)\n",
    "    obs_test = df_test['Close'][SEQUENCE_SIZE:len(df_test)].values.tolist()\n",
    "    obs_test.pop()\n",
    "    obs_test = np.asarray(obs_test)\n",
    "    #print(obs_test.shape)\n",
    "    \n",
    "    \n",
    "    myDict_seq = dict()\n",
    "    iteration = x-5\n",
    "    \n",
    "    model = Sequential()\n",
    "    model.add(LSTM(64, dropout=0.1, recurrent_dropout=0.1, input_shape=(SEQUENCE_SIZE, 5)))\n",
    "    model.add(Dense(32))\n",
    "    model.add(Dense(1))\n",
    "    model.compile(loss='mean_squared_error', optimizer='adam')        \n",
    "    monitor = EarlyStopping(monitor='val_loss', min_delta=1e-3, patience=5, verbose=1, mode='auto')        \n",
    "    model.fit(x_train,obs_train,validation_data=(x_test,obs_test), callbacks=[monitor],verbose=2, epochs=100)  \n",
    "    \n",
    "    print(\"Analyzing Model with {} sequence length\".format(x))\n",
    "    model.predict(x_test)\n",
    "    obs_test = np.asarray(obs_test)\n",
    "    score = np.sqrt(metrics.mean_squared_error(pred_seq,obs_test))\n",
    "    chart_regression(pred_seq,obs_test)\n",
    "    print(\"Score (RMSE): {}\".format(score))\n",
    "    \n",
    "    myDict_seq.update({iteration : (model, x_test, obs_test)})"
   ]
  },
  {
   "cell_type": "code",
   "execution_count": 131,
   "metadata": {},
   "outputs": [
    {
     "name": "stdout",
     "output_type": "stream",
     "text": [
      "1318\n",
      "1310\n",
      "Analyzing model with sequence length 9\n"
     ]
    },
    {
     "ename": "ValueError",
     "evalue": "Error when checking input: expected lstm_44_input to have shape (14, 5) but got array with shape (7, 5)",
     "output_type": "error",
     "traceback": [
      "\u001b[1;31m---------------------------------------------------------------------------\u001b[0m",
      "\u001b[1;31mValueError\u001b[0m                                Traceback (most recent call last)",
      "\u001b[1;32m<ipython-input-131-9500498acab9>\u001b[0m in \u001b[0;36m<module>\u001b[1;34m\u001b[0m\n\u001b[0;32m     15\u001b[0m     \u001b[0mprint\u001b[0m\u001b[1;33m(\u001b[0m\u001b[1;34m'Analyzing model with sequence length {}'\u001b[0m\u001b[1;33m.\u001b[0m\u001b[0mformat\u001b[0m\u001b[1;33m(\u001b[0m\u001b[0mele\u001b[0m\u001b[1;33m)\u001b[0m\u001b[1;33m)\u001b[0m\u001b[1;33m\u001b[0m\u001b[1;33m\u001b[0m\u001b[0m\n\u001b[0;32m     16\u001b[0m     \u001b[0mmodel_seq\u001b[0m \u001b[1;33m=\u001b[0m \u001b[0mmyDict_seq\u001b[0m\u001b[1;33m[\u001b[0m\u001b[0mele\u001b[0m\u001b[1;33m]\u001b[0m\u001b[1;33m\u001b[0m\u001b[1;33m\u001b[0m\u001b[0m\n\u001b[1;32m---> 17\u001b[1;33m     \u001b[0mpred_seq\u001b[0m \u001b[1;33m=\u001b[0m \u001b[0mmodel_seq\u001b[0m\u001b[1;33m.\u001b[0m\u001b[0mpredict\u001b[0m\u001b[1;33m(\u001b[0m\u001b[0mx_test\u001b[0m\u001b[1;33m)\u001b[0m\u001b[1;33m\u001b[0m\u001b[1;33m\u001b[0m\u001b[0m\n\u001b[0m\u001b[0;32m     18\u001b[0m     \u001b[0mobs_test\u001b[0m \u001b[1;33m=\u001b[0m \u001b[0mnp\u001b[0m\u001b[1;33m.\u001b[0m\u001b[0masarray\u001b[0m\u001b[1;33m(\u001b[0m\u001b[0mobs_test\u001b[0m\u001b[1;33m)\u001b[0m\u001b[1;33m\u001b[0m\u001b[1;33m\u001b[0m\u001b[0m\n\u001b[0;32m     19\u001b[0m     \u001b[0mscore\u001b[0m \u001b[1;33m=\u001b[0m \u001b[0mnp\u001b[0m\u001b[1;33m.\u001b[0m\u001b[0msqrt\u001b[0m\u001b[1;33m(\u001b[0m\u001b[0mmetrics\u001b[0m\u001b[1;33m.\u001b[0m\u001b[0mmean_squared_error\u001b[0m\u001b[1;33m(\u001b[0m\u001b[0mpred_seq\u001b[0m\u001b[1;33m,\u001b[0m\u001b[0mobs_test\u001b[0m\u001b[1;33m)\u001b[0m\u001b[1;33m)\u001b[0m\u001b[1;33m\u001b[0m\u001b[1;33m\u001b[0m\u001b[0m\n",
      "\u001b[1;32m~\\Anaconda3\\lib\\site-packages\\tensorflow_core\\python\\keras\\engine\\training.py\u001b[0m in \u001b[0;36mpredict\u001b[1;34m(self, x, batch_size, verbose, steps, callbacks, max_queue_size, workers, use_multiprocessing)\u001b[0m\n\u001b[0;32m    906\u001b[0m         \u001b[0mmax_queue_size\u001b[0m\u001b[1;33m=\u001b[0m\u001b[0mmax_queue_size\u001b[0m\u001b[1;33m,\u001b[0m\u001b[1;33m\u001b[0m\u001b[1;33m\u001b[0m\u001b[0m\n\u001b[0;32m    907\u001b[0m         \u001b[0mworkers\u001b[0m\u001b[1;33m=\u001b[0m\u001b[0mworkers\u001b[0m\u001b[1;33m,\u001b[0m\u001b[1;33m\u001b[0m\u001b[1;33m\u001b[0m\u001b[0m\n\u001b[1;32m--> 908\u001b[1;33m         use_multiprocessing=use_multiprocessing)\n\u001b[0m\u001b[0;32m    909\u001b[0m \u001b[1;33m\u001b[0m\u001b[0m\n\u001b[0;32m    910\u001b[0m   \u001b[1;32mdef\u001b[0m \u001b[0mreset_metrics\u001b[0m\u001b[1;33m(\u001b[0m\u001b[0mself\u001b[0m\u001b[1;33m)\u001b[0m\u001b[1;33m:\u001b[0m\u001b[1;33m\u001b[0m\u001b[1;33m\u001b[0m\u001b[0m\n",
      "\u001b[1;32m~\\Anaconda3\\lib\\site-packages\\tensorflow_core\\python\\keras\\engine\\training_arrays.py\u001b[0m in \u001b[0;36mpredict\u001b[1;34m(self, model, x, batch_size, verbose, steps, callbacks, **kwargs)\u001b[0m\n\u001b[0;32m    714\u001b[0m     \u001b[0mbatch_size\u001b[0m \u001b[1;33m=\u001b[0m \u001b[0mmodel\u001b[0m\u001b[1;33m.\u001b[0m\u001b[0m_validate_or_infer_batch_size\u001b[0m\u001b[1;33m(\u001b[0m\u001b[0mbatch_size\u001b[0m\u001b[1;33m,\u001b[0m \u001b[0msteps\u001b[0m\u001b[1;33m,\u001b[0m \u001b[0mx\u001b[0m\u001b[1;33m)\u001b[0m\u001b[1;33m\u001b[0m\u001b[1;33m\u001b[0m\u001b[0m\n\u001b[0;32m    715\u001b[0m     x, _, _ = model._standardize_user_data(\n\u001b[1;32m--> 716\u001b[1;33m         x, check_steps=True, steps_name='steps', steps=steps)\n\u001b[0m\u001b[0;32m    717\u001b[0m     return predict_loop(\n\u001b[0;32m    718\u001b[0m         \u001b[0mmodel\u001b[0m\u001b[1;33m,\u001b[0m\u001b[1;33m\u001b[0m\u001b[1;33m\u001b[0m\u001b[0m\n",
      "\u001b[1;32m~\\Anaconda3\\lib\\site-packages\\tensorflow_core\\python\\keras\\engine\\training.py\u001b[0m in \u001b[0;36m_standardize_user_data\u001b[1;34m(self, x, y, sample_weight, class_weight, batch_size, check_steps, steps_name, steps, validation_split, shuffle, extract_tensors_from_dataset)\u001b[0m\n\u001b[0;32m   2469\u001b[0m           \u001b[0mfeed_input_shapes\u001b[0m\u001b[1;33m,\u001b[0m\u001b[1;33m\u001b[0m\u001b[1;33m\u001b[0m\u001b[0m\n\u001b[0;32m   2470\u001b[0m           \u001b[0mcheck_batch_axis\u001b[0m\u001b[1;33m=\u001b[0m\u001b[1;32mFalse\u001b[0m\u001b[1;33m,\u001b[0m  \u001b[1;31m# Don't enforce the batch size.\u001b[0m\u001b[1;33m\u001b[0m\u001b[1;33m\u001b[0m\u001b[0m\n\u001b[1;32m-> 2471\u001b[1;33m           exception_prefix='input')\n\u001b[0m\u001b[0;32m   2472\u001b[0m \u001b[1;33m\u001b[0m\u001b[0m\n\u001b[0;32m   2473\u001b[0m     \u001b[1;31m# Get typespecs for the input data and sanitize it if necessary.\u001b[0m\u001b[1;33m\u001b[0m\u001b[1;33m\u001b[0m\u001b[1;33m\u001b[0m\u001b[0m\n",
      "\u001b[1;32m~\\Anaconda3\\lib\\site-packages\\tensorflow_core\\python\\keras\\engine\\training_utils.py\u001b[0m in \u001b[0;36mstandardize_input_data\u001b[1;34m(data, names, shapes, check_batch_axis, exception_prefix)\u001b[0m\n\u001b[0;32m    570\u001b[0m                              \u001b[1;34m': expected '\u001b[0m \u001b[1;33m+\u001b[0m \u001b[0mnames\u001b[0m\u001b[1;33m[\u001b[0m\u001b[0mi\u001b[0m\u001b[1;33m]\u001b[0m \u001b[1;33m+\u001b[0m \u001b[1;34m' to have shape '\u001b[0m \u001b[1;33m+\u001b[0m\u001b[1;33m\u001b[0m\u001b[1;33m\u001b[0m\u001b[0m\n\u001b[0;32m    571\u001b[0m                              \u001b[0mstr\u001b[0m\u001b[1;33m(\u001b[0m\u001b[0mshape\u001b[0m\u001b[1;33m)\u001b[0m \u001b[1;33m+\u001b[0m \u001b[1;34m' but got array with shape '\u001b[0m \u001b[1;33m+\u001b[0m\u001b[1;33m\u001b[0m\u001b[1;33m\u001b[0m\u001b[0m\n\u001b[1;32m--> 572\u001b[1;33m                              str(data_shape))\n\u001b[0m\u001b[0;32m    573\u001b[0m   \u001b[1;32mreturn\u001b[0m \u001b[0mdata\u001b[0m\u001b[1;33m\u001b[0m\u001b[1;33m\u001b[0m\u001b[0m\n\u001b[0;32m    574\u001b[0m \u001b[1;33m\u001b[0m\u001b[0m\n",
      "\u001b[1;31mValueError\u001b[0m: Error when checking input: expected lstm_44_input to have shape (14, 5) but got array with shape (7, 5)"
     ]
    }
   ],
   "source": [
    "for ele in myDict_seq:\n",
    "    x_train,y_train = to_sequences(ele,params_train)\n",
    "    obs_train = df_train['Close'][ele:len(df_train)].values.tolist()\n",
    "    obs_train.pop()\n",
    "    obs_train = np.asarray(obs_train)\n",
    "    \n",
    "    x_test,y_test = to_sequences(ele,params_test)\n",
    "    print(len(params_test))\n",
    "    print(len(x_test))\n",
    "    obs_test = df_test['Close'][ele:len(df_test)].values.tolist()\n",
    "    obs_test.pop()\n",
    "    obs_test = np.asarray(obs_test)\n",
    "    \n",
    "    \n",
    "    print('Analyzing model wth sequence length {}'.format(ele))\n",
    "    model_seq = myDict_seq[ele]\n",
    "    pred_seq = model_seq.predict(x_test)\n",
    "    obs_test = np.asarray(obs_test)\n",
    "    score = np.sqrt(metrics.mean_squared_error(pred_seq,obs_test))\n",
    "    chart_regression(pred_seq,obs_test)\n",
    "    print(\"Score (RMSE): {}\".format(score))"
   ]
  },
  {
   "cell_type": "code",
   "execution_count": null,
   "metadata": {},
   "outputs": [],
   "source": []
  }
 ],
 "metadata": {
  "kernelspec": {
   "display_name": "Python 3",
   "language": "python",
   "name": "python3"
  },
  "language_info": {
   "codemirror_mode": {
    "name": "ipython",
    "version": 3
   },
   "file_extension": ".py",
   "mimetype": "text/x-python",
   "name": "python",
   "nbconvert_exporter": "python",
   "pygments_lexer": "ipython3",
   "version": "3.7.4"
  }
 },
 "nbformat": 4,
 "nbformat_minor": 2
}
